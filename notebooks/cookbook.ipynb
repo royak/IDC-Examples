{
  "nbformat": 4,
  "nbformat_minor": 0,
  "metadata": {
    "colab": {
      "name": "IDC Google Colab notebook cookbook",
      "provenance": [],
      "authorship_tag": "ABX9TyPmcKnLAywRG9Ev+6lZPhbD",
      "include_colab_link": true
    },
    "kernelspec": {
      "name": "python3",
      "display_name": "Python 3"
    },
    "language_info": {
      "name": "python"
    }
  },
  "cells": [
    {
      "cell_type": "markdown",
      "metadata": {
        "id": "view-in-github",
        "colab_type": "text"
      },
      "source": [
        "<a href=\"https://colab.research.google.com/github/fedorov/IDC-Examples/blob/master/notebooks/cookbook.ipynb\" target=\"_parent\"><img src=\"https://colab.research.google.com/assets/colab-badge.svg\" alt=\"Open In Colab\"/></a>"
      ]
    },
    {
      "cell_type": "markdown",
      "source": [
        "# IDC Google Colab cookbook notebook\n",
        "\n",
        "The goal of this notebook is to serve as the source of various small bits that should be helpful in developing analysis notebooks by the IDC users.\n",
        "\n",
        "Please email Andrey Fedorov andrey dot fedorov at gmail dot com if you have any questions or suggestions!\n",
        "\n",
        "* Prepared: Spring 2022\n",
        "* Updated: June 29, 2022"
      ],
      "metadata": {
        "id": "m_TcNSmCPUVC"
      }
    },
    {
      "cell_type": "markdown",
      "source": [
        "# Prerequisites\n",
        "\n",
        "* To use Colab, and to access data in IDC, you will need a [Google Account](https://support.google.com/accounts/answer/27441?hl=en)\n",
        "* Make sure your Colab instance has a GPU! For this check \"Runtime > Change runtime type\" and make sure to choose the GPU runtime.\n",
        "* To perform queries against IDC BigQuery tables you will need a cloud project. You can get started with Google Cloud free project with the following steps (they are also illustrated in [this short video](https://youtu.be/i08S0KJLnyw)):\n",
        "  1. Go to https://console.cloud.google.com/, and accept Terms and conditions.\n",
        "  2. Click \"Select a project\" button in the upper left corner of the screen, and then click \"New project\".\n",
        "  3. Open the console menu by clicking the ☰ menu icon in the upper left corner, and select \"Dashboard\". You will see information about your project, including your Project ID. Insert that project ID in the cell below in place of `REPLACE_ME_WITH_YOUR_PROJECT_ID`."
      ],
      "metadata": {
        "id": "40SRMJpLRbx3"
      }
    },
    {
      "cell_type": "code",
      "execution_count": 1,
      "metadata": {
        "id": "RJ-UxuUeQsuy"
      },
      "outputs": [],
      "source": [
        "# initialize this variable with your Google Cloud Project ID!\n",
        "my_ProjectID = \"REPLACE_ME_WITH_YOUR_PROJECT_ID\"\n",
        "\n",
        "import os\n",
        "os.environ[\"GCP_PROJECT_ID\"] = my_ProjectID"
      ]
    },
    {
      "cell_type": "markdown",
      "source": [
        "# Authentication"
      ],
      "metadata": {
        "id": "UAQruFrsTbHQ"
      }
    },
    {
      "cell_type": "code",
      "source": [
        "# you will need to authenticate with your Google ID to do anything meaningful with IDC\n",
        "from google.colab import auth\n",
        "auth.authenticate_user()"
      ],
      "metadata": {
        "id": "o8WdiIiBQwav"
      },
      "execution_count": 2,
      "outputs": []
    },
    {
      "cell_type": "markdown",
      "source": [
        "# Query\n",
        "\n",
        "BigQuery SQL is an extremely powerful instrument for searching DICOM metadata available in IDC! The examples below are intended to give you a basic idea about some of the capabilities. If you want to know more, please refer to the [BigQuery query syntax documentation](https://cloud.google.com/bigquery/docs/reference/standard-sql/query-syntax). You can also easily google various tutorials, such as [this one](https://blog.coupler.io/bigquery-tutorial/) to help you get started. While learning all the tricks of SQL will take a lot of effort, you should be able to very quickly master the skills that can go long way exploring IDC data!\n",
        "\n",
        "When experimenting with queries, [BigQuery SQL console](https://console.cloud.google.com/bigquery) is very very handy!\n",
        "\n",
        "To run queries, first, instantiate the query client, which can next be configured to run the query."
      ],
      "metadata": {
        "id": "29H1Kp5dTYBb"
      }
    },
    {
      "cell_type": "code",
      "source": [
        "# python API is the most flexible way to query IDC BigQuery metadata tables\n",
        "from google.cloud import bigquery\n",
        "bq_client = bigquery.Client(my_ProjectID)"
      ],
      "metadata": {
        "id": "TLhEHQkNWkac"
      },
      "execution_count": 3,
      "outputs": []
    },
    {
      "cell_type": "markdown",
      "source": [
        "## Get list of the available collections\n",
        "\n"
      ],
      "metadata": {
        "id": "rLxarN7EXkI6"
      }
    },
    {
      "cell_type": "code",
      "source": [
        "selection_query = f\"\"\"\n",
        "  SELECT  \n",
        "    DISTINCT(collection_id) \n",
        "  FROM \n",
        "    `bigquery-public-data.idc_current.dicom_all` \n",
        "\"\"\"\n",
        "\n",
        "selection_result = bq_client.query(selection_query)\n",
        "selection_df = selection_result.result().to_dataframe()\n",
        "\n",
        "selection_df"
      ],
      "metadata": {
        "id": "dDIJjm4EX7-I"
      },
      "execution_count": null,
      "outputs": []
    },
    {
      "cell_type": "markdown",
      "source": [
        "## Get some summary information about collections"
      ],
      "metadata": {
        "id": "W9s8vMNpYJ89"
      }
    },
    {
      "cell_type": "code",
      "source": [
        "selection_query = f\"\"\"\n",
        "  SELECT  \n",
        "    collection_id,\n",
        "    STRING_AGG(DISTINCT(Modality)) as collection_modalities, # DICOM modalities encountered\n",
        "    ROUND(SUM(instance_size)/POW(1024,3),3) as collection_size_GB # total size on disk\n",
        "  FROM \n",
        "    `bigquery-public-data.idc_current.dicom_all` \n",
        "  GROUP BY\n",
        "    collection_id\n",
        "  ORDER BY\n",
        "    collection_size_GB DESC\n",
        "\"\"\"\n",
        "\n",
        "selection_result = bq_client.query(selection_query)\n",
        "selection_df = selection_result.result().to_dataframe()\n",
        "\n",
        "selection_df"
      ],
      "metadata": {
        "id": "Z-dVwzh_YSIx"
      },
      "execution_count": null,
      "outputs": []
    },
    {
      "cell_type": "markdown",
      "source": [
        "## Select items by specific UID/ID"
      ],
      "metadata": {
        "id": "44bcOU8zY1Gv"
      }
    },
    {
      "cell_type": "code",
      "source": [
        "# select rows corresponding to the specific DICOM instance, as defined by SOPInstanceUID value\n",
        "# similarly, you can select by specifying StudyInstanceUID, SeriesInstanceUID or SOPInstanceUID,\n",
        "# instead of the PatientID line below with the following (as examples) by deleting the # character in front\n",
        "# of the corresponding line\n",
        "selection_query = f\"\"\"\n",
        "  SELECT  \n",
        "    StudyInstanceUID, \n",
        "    SeriesInstanceUID, \n",
        "    SOPInstanceUID, \n",
        "    instance_size, \n",
        "    gcs_url \n",
        "  FROM \n",
        "    `bigquery-public-data.idc_current.dicom_all` \n",
        "  WHERE \n",
        "#    PatientID = \\\"R01-001\\\"\n",
        "#   SOPInstanceUID = \\\"1.3.6.1.4.1.14519.5.2.1.6450.2626.226637977389233552278537838820\\\" \n",
        "#   SeriesInstanceUID = \\\"1.3.6.1.4.1.14519.5.2.1.4334.1501.312037286778380630549945195741\\\" \n",
        "#   StudyInstanceUID = \\\"\t1.3.6.1.4.1.14519.5.2.1.4334.1501.116796918629271881210561198785\\\" \n",
        "   collection_id = \"lidc_idri\"\n",
        "\"\"\"\n",
        "\n",
        "selection_result = bq_client.query(selection_query)\n",
        "selection_df = selection_result.result().to_dataframe()"
      ],
      "metadata": {
        "id": "O3ChffvfQ5kK"
      },
      "execution_count": 18,
      "outputs": []
    },
    {
      "cell_type": "code",
      "source": [
        "size_gb = round(selection_df[\"instance_size\"].sum()/(1024**3),4)\n",
        "print(f\"Cohort size on disk: {size_gb} Gb\")"
      ],
      "metadata": {
        "id": "01oMZurvwTJK"
      },
      "execution_count": null,
      "outputs": []
    },
    {
      "cell_type": "markdown",
      "source": [
        "## Select by availability of segmentations\n",
        "\n",
        "What segmentations do we have anyway? Let's look at the distinct combinations of segmentation property category, type and anatomic location, which are the metadata attributes that describe segmentations.\n",
        "\n",
        "In this instance, we run the query using the `%%bigquery` magic. This requires less code, but cannot be parameterized as easily as when using python BQ interface."
      ],
      "metadata": {
        "id": "fme0GjCkY4Dj"
      }
    },
    {
      "cell_type": "code",
      "source": [
        "%%bigquery --project=$my_ProjectID\n",
        "\n",
        "SELECT\n",
        "  DISTINCT(SegmentedPropertyCategory.CodeMeaning) as SegmentedPropertyCategory_CodeMeaning,\n",
        "  SegmentedPropertyType.CodeMeaning as SegmentedPropertyType_CodeMeaning,\n",
        "  AnatomicRegion.CodeMeaning as AnatomicRegion_CodeMeaning\n",
        "FROM\n",
        "  `bigquery-public-data.idc_current.segmentations`"
      ],
      "metadata": {
        "id": "I-e1GCFHZAti"
      },
      "execution_count": null,
      "outputs": []
    },
    {
      "cell_type": "markdown",
      "source": [
        "Select all rows that correspond to the instances of segmentations of anything in the prostate."
      ],
      "metadata": {
        "id": "REDWrn5zY9as"
      }
    },
    {
      "cell_type": "code",
      "source": [
        "# select rows corresponding to cases that have segmentation of anything in the prostate\n",
        "selection_query = f\"\"\"\n",
        "  SELECT  \n",
        "    dicom_all.StudyInstanceUID, \n",
        "    dicom_all.SeriesInstanceUID, \n",
        "    dicom_all.SOPInstanceUID, \n",
        "    gcs_url \n",
        "  FROM \n",
        "    `bigquery-public-data.idc_current.dicom_all` as dicom_all \n",
        "  JOIN \n",
        "    `bigquery-public-data.idc_current.segmentations` as segmentations \n",
        "  ON \n",
        "    dicom_all.SOPInstanceUID = segmentations.SOPInstanceUID \n",
        "  WHERE \n",
        "    segmentations.SegmentedPropertyType.CodeMeaning LIKE \\\"%prostate%\\\" OR \n",
        "    segmentations.AnatomicRegion.CodeMeaning LIKE \\\"%prostate%\\\"\n",
        "\"\"\"\n",
        "\n",
        "selection_result = bq_client.query(selection_query)\n",
        "selection_df = selection_result.result().to_dataframe()"
      ],
      "metadata": {
        "id": "e5pQVYyQWyea"
      },
      "execution_count": 24,
      "outputs": []
    },
    {
      "cell_type": "code",
      "source": [
        "selection_df"
      ],
      "metadata": {
        "colab": {
          "base_uri": "https://localhost:8080/",
          "height": 424
        },
        "id": "iY1koAD2Xmz6",
        "outputId": "14f810b2-b395-471b-e4b3-05271a4e151f"
      },
      "execution_count": null,
      "outputs": [
        {
          "output_type": "execute_result",
          "data": {
            "text/plain": [
              "                                      StudyInstanceUID  \\\n",
              "0    1.3.6.1.4.1.14519.5.2.1.3671.4754.266963586071...   \n",
              "1    1.3.6.1.4.1.14519.5.2.1.3671.4754.266963586071...   \n",
              "2    1.3.6.1.4.1.14519.5.2.1.3671.4754.266963586071...   \n",
              "3    1.3.6.1.4.1.14519.5.2.1.7310.5101.130276529947...   \n",
              "4    1.3.6.1.4.1.14519.5.2.1.7310.5101.130276529947...   \n",
              "..                                                 ...   \n",
              "525  1.3.6.1.4.1.14519.5.2.1.7311.5101.726872428105...   \n",
              "526  1.3.6.1.4.1.14519.5.2.1.7311.5101.726872428105...   \n",
              "527  1.3.6.1.4.1.14519.5.2.1.7311.5101.236131511359...   \n",
              "528  1.3.6.1.4.1.14519.5.2.1.7311.5101.236131511359...   \n",
              "529  1.3.6.1.4.1.14519.5.2.1.7311.5101.236131511359...   \n",
              "\n",
              "                                     SeriesInstanceUID  \\\n",
              "0    1.2.276.0.7230010.3.1.3.1426846371.7356.151320...   \n",
              "1    1.2.276.0.7230010.3.1.3.1426846371.7356.151320...   \n",
              "2    1.2.276.0.7230010.3.1.3.1426846371.7356.151320...   \n",
              "3    1.2.276.0.7230010.3.1.3.1070885483.11412.15991...   \n",
              "4    1.2.276.0.7230010.3.1.3.1070885483.11412.15991...   \n",
              "..                                                 ...   \n",
              "525  1.2.276.0.7230010.3.1.3.1070885483.16388.15991...   \n",
              "526  1.2.276.0.7230010.3.1.3.1070885483.16388.15991...   \n",
              "527  1.2.276.0.7230010.3.1.3.1070885483.17072.15991...   \n",
              "528  1.2.276.0.7230010.3.1.3.1070885483.17072.15991...   \n",
              "529  1.2.276.0.7230010.3.1.3.1070885483.17072.15991...   \n",
              "\n",
              "                                        SOPInstanceUID  \\\n",
              "0    1.2.276.0.7230010.3.1.4.1426846371.7356.151320...   \n",
              "1    1.2.276.0.7230010.3.1.4.1426846371.7356.151320...   \n",
              "2    1.2.276.0.7230010.3.1.4.1426846371.7356.151320...   \n",
              "3    1.2.276.0.7230010.3.1.4.1070885483.11412.15991...   \n",
              "4    1.2.276.0.7230010.3.1.4.1070885483.11412.15991...   \n",
              "..                                                 ...   \n",
              "525  1.2.276.0.7230010.3.1.4.1070885483.16388.15991...   \n",
              "526  1.2.276.0.7230010.3.1.4.1070885483.16388.15991...   \n",
              "527  1.2.276.0.7230010.3.1.4.1070885483.17072.15991...   \n",
              "528  1.2.276.0.7230010.3.1.4.1070885483.17072.15991...   \n",
              "529  1.2.276.0.7230010.3.1.4.1070885483.17072.15991...   \n",
              "\n",
              "                                               gcs_url  \n",
              "0    gs://public-datasets-idc/2688dccd-cc69-4f4a-ae...  \n",
              "1    gs://public-datasets-idc/2688dccd-cc69-4f4a-ae...  \n",
              "2    gs://public-datasets-idc/2688dccd-cc69-4f4a-ae...  \n",
              "3    gs://public-datasets-idc/59a0d450-f21a-433d-8a...  \n",
              "4    gs://public-datasets-idc/59a0d450-f21a-433d-8a...  \n",
              "..                                                 ...  \n",
              "525  gs://public-datasets-idc/864543fe-9efe-4515-85...  \n",
              "526  gs://public-datasets-idc/864543fe-9efe-4515-85...  \n",
              "527  gs://public-datasets-idc/3fa71302-051c-4900-97...  \n",
              "528  gs://public-datasets-idc/3fa71302-051c-4900-97...  \n",
              "529  gs://public-datasets-idc/3fa71302-051c-4900-97...  \n",
              "\n",
              "[530 rows x 4 columns]"
            ],
            "text/html": [
              "\n",
              "  <div id=\"df-0682f6ab-1177-455d-8570-4d7130c3a4b4\">\n",
              "    <div class=\"colab-df-container\">\n",
              "      <div>\n",
              "<style scoped>\n",
              "    .dataframe tbody tr th:only-of-type {\n",
              "        vertical-align: middle;\n",
              "    }\n",
              "\n",
              "    .dataframe tbody tr th {\n",
              "        vertical-align: top;\n",
              "    }\n",
              "\n",
              "    .dataframe thead th {\n",
              "        text-align: right;\n",
              "    }\n",
              "</style>\n",
              "<table border=\"1\" class=\"dataframe\">\n",
              "  <thead>\n",
              "    <tr style=\"text-align: right;\">\n",
              "      <th></th>\n",
              "      <th>StudyInstanceUID</th>\n",
              "      <th>SeriesInstanceUID</th>\n",
              "      <th>SOPInstanceUID</th>\n",
              "      <th>gcs_url</th>\n",
              "    </tr>\n",
              "  </thead>\n",
              "  <tbody>\n",
              "    <tr>\n",
              "      <th>0</th>\n",
              "      <td>1.3.6.1.4.1.14519.5.2.1.3671.4754.266963586071...</td>\n",
              "      <td>1.2.276.0.7230010.3.1.3.1426846371.7356.151320...</td>\n",
              "      <td>1.2.276.0.7230010.3.1.4.1426846371.7356.151320...</td>\n",
              "      <td>gs://public-datasets-idc/2688dccd-cc69-4f4a-ae...</td>\n",
              "    </tr>\n",
              "    <tr>\n",
              "      <th>1</th>\n",
              "      <td>1.3.6.1.4.1.14519.5.2.1.3671.4754.266963586071...</td>\n",
              "      <td>1.2.276.0.7230010.3.1.3.1426846371.7356.151320...</td>\n",
              "      <td>1.2.276.0.7230010.3.1.4.1426846371.7356.151320...</td>\n",
              "      <td>gs://public-datasets-idc/2688dccd-cc69-4f4a-ae...</td>\n",
              "    </tr>\n",
              "    <tr>\n",
              "      <th>2</th>\n",
              "      <td>1.3.6.1.4.1.14519.5.2.1.3671.4754.266963586071...</td>\n",
              "      <td>1.2.276.0.7230010.3.1.3.1426846371.7356.151320...</td>\n",
              "      <td>1.2.276.0.7230010.3.1.4.1426846371.7356.151320...</td>\n",
              "      <td>gs://public-datasets-idc/2688dccd-cc69-4f4a-ae...</td>\n",
              "    </tr>\n",
              "    <tr>\n",
              "      <th>3</th>\n",
              "      <td>1.3.6.1.4.1.14519.5.2.1.7310.5101.130276529947...</td>\n",
              "      <td>1.2.276.0.7230010.3.1.3.1070885483.11412.15991...</td>\n",
              "      <td>1.2.276.0.7230010.3.1.4.1070885483.11412.15991...</td>\n",
              "      <td>gs://public-datasets-idc/59a0d450-f21a-433d-8a...</td>\n",
              "    </tr>\n",
              "    <tr>\n",
              "      <th>4</th>\n",
              "      <td>1.3.6.1.4.1.14519.5.2.1.7310.5101.130276529947...</td>\n",
              "      <td>1.2.276.0.7230010.3.1.3.1070885483.11412.15991...</td>\n",
              "      <td>1.2.276.0.7230010.3.1.4.1070885483.11412.15991...</td>\n",
              "      <td>gs://public-datasets-idc/59a0d450-f21a-433d-8a...</td>\n",
              "    </tr>\n",
              "    <tr>\n",
              "      <th>...</th>\n",
              "      <td>...</td>\n",
              "      <td>...</td>\n",
              "      <td>...</td>\n",
              "      <td>...</td>\n",
              "    </tr>\n",
              "    <tr>\n",
              "      <th>525</th>\n",
              "      <td>1.3.6.1.4.1.14519.5.2.1.7311.5101.726872428105...</td>\n",
              "      <td>1.2.276.0.7230010.3.1.3.1070885483.16388.15991...</td>\n",
              "      <td>1.2.276.0.7230010.3.1.4.1070885483.16388.15991...</td>\n",
              "      <td>gs://public-datasets-idc/864543fe-9efe-4515-85...</td>\n",
              "    </tr>\n",
              "    <tr>\n",
              "      <th>526</th>\n",
              "      <td>1.3.6.1.4.1.14519.5.2.1.7311.5101.726872428105...</td>\n",
              "      <td>1.2.276.0.7230010.3.1.3.1070885483.16388.15991...</td>\n",
              "      <td>1.2.276.0.7230010.3.1.4.1070885483.16388.15991...</td>\n",
              "      <td>gs://public-datasets-idc/864543fe-9efe-4515-85...</td>\n",
              "    </tr>\n",
              "    <tr>\n",
              "      <th>527</th>\n",
              "      <td>1.3.6.1.4.1.14519.5.2.1.7311.5101.236131511359...</td>\n",
              "      <td>1.2.276.0.7230010.3.1.3.1070885483.17072.15991...</td>\n",
              "      <td>1.2.276.0.7230010.3.1.4.1070885483.17072.15991...</td>\n",
              "      <td>gs://public-datasets-idc/3fa71302-051c-4900-97...</td>\n",
              "    </tr>\n",
              "    <tr>\n",
              "      <th>528</th>\n",
              "      <td>1.3.6.1.4.1.14519.5.2.1.7311.5101.236131511359...</td>\n",
              "      <td>1.2.276.0.7230010.3.1.3.1070885483.17072.15991...</td>\n",
              "      <td>1.2.276.0.7230010.3.1.4.1070885483.17072.15991...</td>\n",
              "      <td>gs://public-datasets-idc/3fa71302-051c-4900-97...</td>\n",
              "    </tr>\n",
              "    <tr>\n",
              "      <th>529</th>\n",
              "      <td>1.3.6.1.4.1.14519.5.2.1.7311.5101.236131511359...</td>\n",
              "      <td>1.2.276.0.7230010.3.1.3.1070885483.17072.15991...</td>\n",
              "      <td>1.2.276.0.7230010.3.1.4.1070885483.17072.15991...</td>\n",
              "      <td>gs://public-datasets-idc/3fa71302-051c-4900-97...</td>\n",
              "    </tr>\n",
              "  </tbody>\n",
              "</table>\n",
              "<p>530 rows × 4 columns</p>\n",
              "</div>\n",
              "      <button class=\"colab-df-convert\" onclick=\"convertToInteractive('df-0682f6ab-1177-455d-8570-4d7130c3a4b4')\"\n",
              "              title=\"Convert this dataframe to an interactive table.\"\n",
              "              style=\"display:none;\">\n",
              "        \n",
              "  <svg xmlns=\"http://www.w3.org/2000/svg\" height=\"24px\"viewBox=\"0 0 24 24\"\n",
              "       width=\"24px\">\n",
              "    <path d=\"M0 0h24v24H0V0z\" fill=\"none\"/>\n",
              "    <path d=\"M18.56 5.44l.94 2.06.94-2.06 2.06-.94-2.06-.94-.94-2.06-.94 2.06-2.06.94zm-11 1L8.5 8.5l.94-2.06 2.06-.94-2.06-.94L8.5 2.5l-.94 2.06-2.06.94zm10 10l.94 2.06.94-2.06 2.06-.94-2.06-.94-.94-2.06-.94 2.06-2.06.94z\"/><path d=\"M17.41 7.96l-1.37-1.37c-.4-.4-.92-.59-1.43-.59-.52 0-1.04.2-1.43.59L10.3 9.45l-7.72 7.72c-.78.78-.78 2.05 0 2.83L4 21.41c.39.39.9.59 1.41.59.51 0 1.02-.2 1.41-.59l7.78-7.78 2.81-2.81c.8-.78.8-2.07 0-2.86zM5.41 20L4 18.59l7.72-7.72 1.47 1.35L5.41 20z\"/>\n",
              "  </svg>\n",
              "      </button>\n",
              "      \n",
              "  <style>\n",
              "    .colab-df-container {\n",
              "      display:flex;\n",
              "      flex-wrap:wrap;\n",
              "      gap: 12px;\n",
              "    }\n",
              "\n",
              "    .colab-df-convert {\n",
              "      background-color: #E8F0FE;\n",
              "      border: none;\n",
              "      border-radius: 50%;\n",
              "      cursor: pointer;\n",
              "      display: none;\n",
              "      fill: #1967D2;\n",
              "      height: 32px;\n",
              "      padding: 0 0 0 0;\n",
              "      width: 32px;\n",
              "    }\n",
              "\n",
              "    .colab-df-convert:hover {\n",
              "      background-color: #E2EBFA;\n",
              "      box-shadow: 0px 1px 2px rgba(60, 64, 67, 0.3), 0px 1px 3px 1px rgba(60, 64, 67, 0.15);\n",
              "      fill: #174EA6;\n",
              "    }\n",
              "\n",
              "    [theme=dark] .colab-df-convert {\n",
              "      background-color: #3B4455;\n",
              "      fill: #D2E3FC;\n",
              "    }\n",
              "\n",
              "    [theme=dark] .colab-df-convert:hover {\n",
              "      background-color: #434B5C;\n",
              "      box-shadow: 0px 1px 3px 1px rgba(0, 0, 0, 0.15);\n",
              "      filter: drop-shadow(0px 1px 2px rgba(0, 0, 0, 0.3));\n",
              "      fill: #FFFFFF;\n",
              "    }\n",
              "  </style>\n",
              "\n",
              "      <script>\n",
              "        const buttonEl =\n",
              "          document.querySelector('#df-0682f6ab-1177-455d-8570-4d7130c3a4b4 button.colab-df-convert');\n",
              "        buttonEl.style.display =\n",
              "          google.colab.kernel.accessAllowed ? 'block' : 'none';\n",
              "\n",
              "        async function convertToInteractive(key) {\n",
              "          const element = document.querySelector('#df-0682f6ab-1177-455d-8570-4d7130c3a4b4');\n",
              "          const dataTable =\n",
              "            await google.colab.kernel.invokeFunction('convertToInteractive',\n",
              "                                                     [key], {});\n",
              "          if (!dataTable) return;\n",
              "\n",
              "          const docLinkHtml = 'Like what you see? Visit the ' +\n",
              "            '<a target=\"_blank\" href=https://colab.research.google.com/notebooks/data_table.ipynb>data table notebook</a>'\n",
              "            + ' to learn more about interactive tables.';\n",
              "          element.innerHTML = '';\n",
              "          dataTable['output_type'] = 'display_data';\n",
              "          await google.colab.output.renderOutput(dataTable, element);\n",
              "          const docLink = document.createElement('div');\n",
              "          docLink.innerHTML = docLinkHtml;\n",
              "          element.appendChild(docLink);\n",
              "        }\n",
              "      </script>\n",
              "    </div>\n",
              "  </div>\n",
              "  "
            ]
          },
          "metadata": {},
          "execution_count": 25
        }
      ]
    },
    {
      "cell_type": "markdown",
      "source": [
        "# Visualization"
      ],
      "metadata": {
        "id": "dN2nTuIiTUuF"
      }
    },
    {
      "cell_type": "code",
      "source": [
        "# helper function to view a study or a specific series hosted by IDC\n",
        "def get_idc_viewer_url(studyUID, seriesUID=None):\n",
        "  url = \"https://viewer.imaging.datacommons.cancer.gov/viewer/\"+studyUID\n",
        "  if seriesUID is not None:\n",
        "    url = url+\"?seriesInstanceUID=\"+seriesUID\n",
        "  return url\n",
        "\n",
        "my_StudyInstanceUID = selection_df[\"StudyInstanceUID\"][0]\n",
        "my_SeriesInstanceUID = selection_df[selection_df[\"StudyInstanceUID\"] == selection_df[\"StudyInstanceUID\"][0]][\"SeriesInstanceUID\"][0]\n",
        "\n",
        "print(\"URL to view the entire study:\")\n",
        "print(get_idc_viewer_url(my_StudyInstanceUID))\n",
        "print()\n",
        "print(\"URL to view the specific series:\")\n",
        "print(get_idc_viewer_url(my_StudyInstanceUID, my_SeriesInstanceUID))"
      ],
      "metadata": {
        "id": "r-KhjcRaRBjb"
      },
      "execution_count": null,
      "outputs": []
    },
    {
      "cell_type": "markdown",
      "source": [
        "# Downloading\n",
        "\n",
        "Refer to the documentation page on the topic for most up-to-date information:\n",
        "\n",
        "https://learn.canceridc.dev/data/downloading-data"
      ],
      "metadata": {
        "id": "L0JnG1ruTNYE"
      }
    },
    {
      "cell_type": "code",
      "source": [
        "import os\n",
        "os.environ[\"DOWNLOAD_DEST\"] = \"/content/IDC_downloads\"\n",
        "os.environ[\"MANIFEST\"] = \"/content/idc_manifest.txt\""
      ],
      "metadata": {
        "id": "jnof1qBGS_bg"
      },
      "execution_count": 26,
      "outputs": []
    },
    {
      "cell_type": "code",
      "source": [
        "!mkdir -p ${DOWNLOAD_DEST}\n",
        "!echo \"gsutil cp \\$* $DOWNLOAD_DEST\" > gsutil_download.sh\n",
        "!chmod +x gsutil_download.sh"
      ],
      "metadata": {
        "id": "40rKbm6tSAfc"
      },
      "execution_count": 27,
      "outputs": []
    },
    {
      "cell_type": "code",
      "source": [
        "# creating a manifest file for the subsequent download of files\n",
        "selection_df[\"gcs_url\"].to_csv(os.environ[\"MANIFEST\"], header=False, index=False)"
      ],
      "metadata": {
        "id": "bqSaXLu8RFzo"
      },
      "execution_count": 28,
      "outputs": []
    },
    {
      "cell_type": "code",
      "source": [
        "# download is this simple (but not very fast!)\n",
        "%%capture\n",
        "\n",
        "!cat ${MANIFEST} | gsutil -m cp -I ${DOWNLOAD_DEST}"
      ],
      "metadata": {
        "id": "82V-eaqZRKx7"
      },
      "execution_count": 29,
      "outputs": []
    },
    {
      "cell_type": "markdown",
      "source": [
        "If you want to download a non-trivial amount of data, you will want to parallelize downloads, as illustrated below."
      ],
      "metadata": {
        "id": "OpT8Z4xxUy-h"
      }
    },
    {
      "cell_type": "code",
      "source": [
        "!cat ${MANIFEST} | xargs -n 25 -P 10 ./gsutil_download.sh"
      ],
      "metadata": {
        "id": "GxwVnovcU9Hb"
      },
      "execution_count": null,
      "outputs": []
    },
    {
      "cell_type": "markdown",
      "source": [
        "WIP: it is **much** faster to download using [s5cmd](https://github.com/peak/s5cmd) - see our documentation here for details: https://learn.canceridc.dev/data/downloading-data."
      ],
      "metadata": {
        "id": "VYqfhQ2obPAK"
      }
    },
    {
      "cell_type": "markdown",
      "source": [
        "# Sorting"
      ],
      "metadata": {
        "id": "JZPrcIz8RbiH"
      }
    },
    {
      "cell_type": "code",
      "source": [
        "%%capture\n",
        "!pip install pydicom\n",
        "!git clone https://github.com/pieper/dicomsort\n",
        "!sudo apt-get install dcmtk"
      ],
      "metadata": {
        "id": "Q3g4sN5gRg7A"
      },
      "execution_count": 32,
      "outputs": []
    },
    {
      "cell_type": "code",
      "source": [
        "import os\n",
        "os.environ[\"SORTED_DEST\"] = \"/content/IDC_sorted\"\n",
        "\n",
        "!mkdir -p $SORTED_DEST\n",
        "!rm -rf $SORTED_DEST/*\n",
        "!python dicomsort/dicomsort.py -k -u $DOWNLOAD_DEST ${SORTED_DEST}/%StudyInstanceUID/%SeriesInstanceUID/%SOPInstanceUID.dcm"
      ],
      "metadata": {
        "id": "GugRJMkbRuTt"
      },
      "execution_count": null,
      "outputs": []
    }
  ]
}